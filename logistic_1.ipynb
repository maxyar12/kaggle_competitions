{
 "cells": [
  {
   "cell_type": "code",
   "execution_count": 3,
   "metadata": {},
   "outputs": [],
   "source": [
    "import numpy as np\n",
    "\n",
    "import pandas as pd\n",
    "\n",
    "from sklearn.linear_model import LogisticRegression  # not used yet!\n",
    "\n",
    "import statsmodels.discrete.discrete_model as sm\n"
   ]
  },
  {
   "cell_type": "markdown",
   "metadata": {},
   "source": [
    "## Train a logistic model on the test set\n",
    "\n",
    "Here we want to train a logistic model and choose features based on the p-values of the coefficients\n",
    "\n",
    "We need to do a little bit of data cleaning and removal of rows containing missing data as seen in the data exploration\n",
    "\n"
   ]
  },
  {
   "cell_type": "code",
   "execution_count": 4,
   "metadata": {},
   "outputs": [
    {
     "name": "stdout",
     "output_type": "stream",
     "text": [
      "Optimization terminated successfully.\n",
      "         Current function value: 0.237361\n",
      "         Iterations 7\n",
      "                                   Results: Logit\n",
      "=====================================================================================\n",
      "Model:                      Logit                  Pseudo R-squared:       0.059     \n",
      "Dependent Variable:         SeriousDlqin2yrs       AIC:                    57114.2447\n",
      "Date:                       2019-11-18 16:14       BIC:                    57211.2196\n",
      "No. Observations:           120269                 Log-Likelihood:         -28547.   \n",
      "Df Model:                   9                      LL-Null:                -30345.   \n",
      "Df Residuals:               120259                 LLR p-value:            0.0000    \n",
      "Converged:                  1.0000                 Scale:                  1.0000    \n",
      "No. Iterations:             7.0000                                                   \n",
      "-------------------------------------------------------------------------------------\n",
      "                                      Coef.  Std.Err.    z     P>|z|   [0.025  0.975]\n",
      "-------------------------------------------------------------------------------------\n",
      "RevolvingUtilizationOfUnsecuredLines -0.0001   0.0001  -1.0338 0.3013 -0.0003  0.0001\n",
      "age                                  -0.0505   0.0006 -86.2017 0.0000 -0.0516 -0.0493\n",
      "NumberOfTime30-59DaysPastDueNotWorse  0.4874   0.0120  40.4931 0.0000  0.4638  0.5110\n",
      "DebtRatio                            -0.0002   0.0001  -4.0992 0.0000 -0.0003 -0.0001\n",
      "MonthlyIncome                        -0.0001   0.0000 -15.9994 0.0000 -0.0001 -0.0000\n",
      "NumberOfOpenCreditLinesAndLoans      -0.0197   0.0028  -7.0187 0.0000 -0.0253 -0.0142\n",
      "NumberOfTimes90DaysLate               0.3914   0.0165  23.7275 0.0000  0.3590  0.4237\n",
      "NumberRealEstateLoansOrLines          0.1214   0.0112  10.8304 0.0000  0.0994  0.1434\n",
      "NumberOfTime60-89DaysPastDueNotWorse -0.8466   0.0192 -44.1223 0.0000 -0.8843 -0.8090\n",
      "NumberOfDependents                    0.0365   0.0095   3.8271 0.0001  0.0178  0.0551\n",
      "=====================================================================================\n",
      "\n"
     ]
    }
   ],
   "source": [
    "df = pd.read_csv('../data/processed/cs-training.csv')\n",
    "\n",
    "df = df[np.isfinite(df['MonthlyIncome'])]\n",
    "\n",
    "df = df[np.isfinite(df['NumberOfDependents'])]\n",
    "\n",
    "df = df[~df.isin([np.nan, np.inf, -np.inf]).any(1)]\n",
    "\n",
    "X = df.loc[:, df.columns != 'SeriousDlqin2yrs']\n",
    "\n",
    "del X['Unnamed: 0']\n",
    "\n",
    "y = df['SeriousDlqin2yrs']\n",
    "\n",
    "\n",
    "logit_model=sm.Logit(y,X)\n",
    "result=logit_model.fit()\n",
    "print(result.summary2())"
   ]
  },
  {
   "cell_type": "markdown",
   "metadata": {},
   "source": [
    "We can see that all 10 predictors have a p-value less than 0.05 except for the RevolvingUtil... \n",
    "so we could consider them significant.\n",
    "\n",
    "An interesting thing to note about this result is that the pseudo R^2 is 0.059. Not good!!\n",
    "\n",
    "This tells us that the model including features at the 1st order is not really working!! We need some more interactions, or higher orders in the predictors to improve the model!!\n",
    "\n",
    "I kind ran out of time at this point\n",
    "\n",
    "things to do: \n",
    "\n",
    "1. include interactions and higher order features\n",
    "\n",
    "2. use clustering apprach (e.g. k-means etc.)\n",
    "\n",
    "3. use a neural network approach"
   ]
  },
  {
   "cell_type": "code",
   "execution_count": null,
   "metadata": {},
   "outputs": [],
   "source": []
  }
 ],
 "metadata": {
  "kernelspec": {
   "display_name": "Python 3",
   "language": "python",
   "name": "python3"
  },
  "language_info": {
   "codemirror_mode": {
    "name": "ipython",
    "version": 3
   },
   "file_extension": ".py",
   "mimetype": "text/x-python",
   "name": "python",
   "nbconvert_exporter": "python",
   "pygments_lexer": "ipython3",
   "version": "3.7.4"
  }
 },
 "nbformat": 4,
 "nbformat_minor": 2
}
